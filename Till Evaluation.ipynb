{
  "cells": [
    {
      "cell_type": "markdown",
      "metadata": {
        "id": "zpJRHcAXJbBO"
      },
      "source": [
        "#Installing Packages"
      ]
    },
    {
      "cell_type": "code",
      "execution_count": null,
      "metadata": {
        "colab": {
          "base_uri": "https://localhost:8080/"
        },
        "id": "qPTwJT4SE_Y6",
        "outputId": "68fe1fe7-d41a-4294-b7f7-56361ea0c014"
      },
      "outputs": [
        {
          "ename": "",
          "evalue": "",
          "output_type": "error",
          "traceback": [
            "\u001b[1;31mRunning cells with 'Python 3.13.1' requires the ipykernel package.\n",
            "\u001b[1;31mRun the following command to install 'ipykernel' into the Python environment. \n",
            "\u001b[1;31mCommand: 'c:/Users/admin/AppData/Local/Programs/Python/Python313/python.exe -m pip install ipykernel -U --user --force-reinstall'"
          ]
        }
      ],
      "source": [
        "pip install openai==0.28"
      ]
    },
    {
      "cell_type": "code",
      "execution_count": null,
      "metadata": {
        "colab": {
          "base_uri": "https://localhost:8080/"
        },
        "id": "TGQ1Drhjt7gK",
        "outputId": "9acc86b5-a673-4ac7-91ef-acf1934b346a"
      },
      "outputs": [],
      "source": [
        "pip install scikit-learn"
      ]
    },
    {
      "cell_type": "code",
      "execution_count": null,
      "metadata": {
        "colab": {
          "base_uri": "https://localhost:8080/"
        },
        "id": "Kj79M3TREc6z",
        "outputId": "9b186d01-2b0c-410e-c7a0-26bfa822f738"
      },
      "outputs": [],
      "source": [
        "pip install PyMuPDF"
      ]
    },
    {
      "cell_type": "code",
      "execution_count": null,
      "metadata": {
        "colab": {
          "base_uri": "https://localhost:8080/"
        },
        "id": "M6un6NtlIgaX",
        "outputId": "89aaefe8-fdfe-4cc8-8573-30609c880b27"
      },
      "outputs": [],
      "source": [
        "pip install PyPDF2"
      ]
    },
    {
      "cell_type": "markdown",
      "metadata": {
        "id": "eSCbxpPyJfnq"
      },
      "source": [
        "#Importing Libraries"
      ]
    },
    {
      "cell_type": "code",
      "execution_count": null,
      "metadata": {
        "id": "-ODdE0B3GPY8"
      },
      "outputs": [],
      "source": [
        "import re\n",
        "import fitz  # PyMuPDF\n",
        "import openai\n",
        "import PyPDF2"
      ]
    },
    {
      "cell_type": "markdown",
      "metadata": {
        "id": "pBxkAr5sJiGQ"
      },
      "source": [
        "#OpenAI API Key"
      ]
    },
    {
      "cell_type": "code",
      "execution_count": null,
      "metadata": {
        "id": "V1Sm-NuwGT5L"
      },
      "outputs": [],
      "source": [
        "# Set up OpenAI API Key\n",
        "openai.api_key = \"OPEN AI API KEY\""
      ]
    },
    {
      "cell_type": "markdown",
      "metadata": {
        "id": "FLMxYoMFJmqm"
      },
      "source": [
        "Resume Path"
      ]
    },
    {
      "cell_type": "code",
      "execution_count": null,
      "metadata": {
        "id": "vOLol0nyJoUL"
      },
      "outputs": [],
      "source": [
        "resume_path = \"Resume.pdf\"  # Replace with the actual resume file path"
      ]
    },
    {
      "cell_type": "markdown",
      "metadata": {
        "id": "ia5f4iNsIzx_"
      },
      "source": [
        "#Saving Candidate Info"
      ]
    },
    {
      "cell_type": "code",
      "execution_count": null,
      "metadata": {
        "colab": {
          "base_uri": "https://localhost:8080/"
        },
        "id": "QF92FxMnE5Bd",
        "outputId": "6572e9d5-90d4-48fc-f8df-66501a3727c1"
      },
      "outputs": [],
      "source": [
        "\n",
        "# Function to extract text from PDF\n",
        "def extract_text_from_pdf(pdf_path):\n",
        "    doc = fitz.open(pdf_path)\n",
        "    text = \"\"\n",
        "    for page in doc:\n",
        "        text += page.get_text(\"text\") + \"\\n\"\n",
        "    return text\n",
        "\n",
        "# Function to extract email using regex\n",
        "def extract_email(text):\n",
        "    email_pattern = r\"[a-zA-Z0-9._%+-]+@[a-zA-Z0-9.-]+\\.[a-zA-Z]{2,}\"\n",
        "    email_matches = re.findall(email_pattern, text)\n",
        "    return email_matches[0] if email_matches else \"Not Found\"\n",
        "\n",
        "# Function to extract phone number using regex\n",
        "def extract_phone(text):\n",
        "    phone_pattern = r\"\\+?\\d{1,3}?[-.\\s]?\\(?\\d{2,4}?\\)?[-.\\s]?\\d{3,5}[-.\\s]?\\d{4,6}\"\n",
        "    phone_matches = re.findall(phone_pattern, text)\n",
        "    return phone_matches[0] if phone_matches else \"Not Found\"\n",
        "\n",
        "# Function to extract only the candidate's name using OpenAI GPT\n",
        "def extract_name(text):\n",
        "    prompt = f\"Extract only the full name of the candidate from the following resume text. Return only the name and nothing else:\\n{text[:1000]}\"\n",
        "    response = openai.ChatCompletion.create(\n",
        "        model=\"gpt-4\",\n",
        "        messages=[{\"role\": \"system\", \"content\": \"You are an expert at extracting names from resumes.\"},\n",
        "                  {\"role\": \"user\", \"content\": prompt}]\n",
        "    )\n",
        "    return response[\"choices\"][0][\"message\"][\"content\"].strip()\n",
        "\n",
        "# Function to extract and save details\n",
        "def extract_and_save_info(pdf_path, output_file=\"CDD_Info.txt\"):\n",
        "    text = extract_text_from_pdf(pdf_path)\n",
        "    name = extract_name(text)\n",
        "    phone = extract_phone(text)\n",
        "    email = extract_email(text)\n",
        "\n",
        "    # Save details to file\n",
        "    with open(output_file, \"w\") as file:\n",
        "        file.write(f\"Name: {name}\\n\")\n",
        "        file.write(f\"Phone Number: {phone}\\n\")\n",
        "        file.write(f\"Email: {email}\\n\")\n",
        "\n",
        "    print(f\"Details saved successfully in {output_file}!\")\n",
        "\n",
        "# Example usage\n",
        "\n",
        "extract_and_save_info(resume_path)\n"
      ]
    },
    {
      "cell_type": "markdown",
      "metadata": {
        "id": "mQuBDEKgI47f"
      },
      "source": [
        "#Saving Questions"
      ]
    },
    {
      "cell_type": "code",
      "execution_count": null,
      "metadata": {
        "id": "RfCnX-tyFo87"
      },
      "outputs": [],
      "source": [
        "import PyPDF2\n",
        "import openai\n",
        "\n",
        "def extract_text_from_pdf(pdf_path):\n",
        "    \"\"\"Extract text from a PDF file.\"\"\"\n",
        "    try:\n",
        "        with open(pdf_path, 'rb') as pdf_file:\n",
        "            reader = PyPDF2.PdfReader(pdf_file)\n",
        "            text = \"\"\n",
        "            for page in reader.pages:\n",
        "                text += page.extract_text() or \"\"  # Handle None case\n",
        "            return text.strip()\n",
        "    except Exception as e:\n",
        "        print(f\"Error reading PDF: {e}\")\n",
        "        return \"\"\n",
        "\n",
        "def read_job_description(txt_path):\n",
        "    \"\"\"Read job description from a text file.\"\"\"\n",
        "    try:\n",
        "        with open(txt_path, \"r\", encoding=\"utf-8\") as file:\n",
        "            return file.read().strip()\n",
        "    except Exception as e:\n",
        "        print(f\"Error reading job description file: {e}\")\n",
        "        return \"\"\n",
        "\n",
        "def generate_interview_questions(job_description, resume):\n",
        "    \"\"\"Generate interview questions based on the provided job description and candidate's resume.\"\"\"\n",
        "    messages = [\n",
        "        {\"role\": \"system\", \"content\": \"You are an expert interviewer skilled in generating questions for job candidates.\"},\n",
        "        {\"role\": \"user\", \"content\": f\"Based on the following job description and resume, generate a list of potential interview questions:\\n\\nJob Description:\\n{job_description}\\n\\nCandidate Resume:\\n{resume}\\n\\nQuestions should cover technical skills, problem-solving, and role-specific knowledge.\"}\n",
        "    ]\n",
        "\n",
        "    try:\n",
        "        response = openai.ChatCompletion.create(\n",
        "            model=\"gpt-3.5-turbo\",\n",
        "            messages=messages,\n",
        "            max_tokens=500,\n",
        "            temperature=0.7\n",
        "        )\n",
        "\n",
        "        # Extract generated text\n",
        "        questions = response['choices'][0]['message']['content'].strip()\n",
        "        return questions.split(\"\\n\")  # Return questions as a list\n",
        "    except Exception as e:\n",
        "        print(\"Error:\", e)\n",
        "        return []\n",
        "\n",
        "def save_questions_to_file(questions, filename=\"Questions.txt\"):\n",
        "    \"\"\"Save the generated questions to a text file.\"\"\"\n",
        "    try:\n",
        "        with open(filename, \"w\", encoding=\"utf-8\") as file:\n",
        "            for idx, question in enumerate(questions, start=1):\n",
        "                file.write(f\"{question}\\n\")\n",
        "        print(f\"Questions saved successfully in {filename}!\")\n",
        "    except Exception as e:\n",
        "        print(f\"Error writing to file: {e}\")"
      ]
    },
    {
      "cell_type": "code",
      "execution_count": null,
      "metadata": {
        "colab": {
          "base_uri": "https://localhost:8080/"
        },
        "id": "L3RhXCobPQPU",
        "outputId": "6862dec1-6ab2-4a95-e5cf-23d7a654d938"
      },
      "outputs": [],
      "source": [
        "job_description_path = \"/content/Director_JD.txt\"  # Path to the job description text file\n",
        "\n",
        "job_description = read_job_description(job_description_path)\n",
        "resume_text = extract_text_from_pdf(resume_path)\n",
        "\n",
        "if job_description and resume_text:\n",
        "    questions = generate_interview_questions(job_description, resume_text)\n",
        "\n",
        "    if questions:\n",
        "        save_questions_to_file(questions)\n",
        "    else:\n",
        "        print(\"No questions generated.\")\n",
        "else:\n",
        "    print(\"Failed to read job description or extract text from the resume.\")\n"
      ]
    },
    {
      "cell_type": "markdown",
      "metadata": {
        "id": "hmLzSCmcKFuv"
      },
      "source": [
        "#Cutomized Calling"
      ]
    },
    {
      "cell_type": "code",
      "execution_count": null,
      "metadata": {
        "colab": {
          "base_uri": "https://localhost:8080/"
        },
        "id": "3vL96LNVR98p",
        "outputId": "8d8384a6-9c14-4cd4-a5d8-6866a25e1a4c"
      },
      "outputs": [],
      "source": [
        "import requests\n",
        "import random\n",
        "import openai\n",
        "\n",
        "API_URL = \"https://api.vapi.ai/assistant/{assistant_id}\"\n",
        "HEADERS = {\n",
        "    \"Authorization\": \"Bearer Token\",\n",
        "    \"Content-Type\": \"application/json\"\n",
        "}\n",
        "\n",
        "def read_candidate_name():\n",
        "    \"\"\"Read the candidate's name from CDD_Info.txt\"\"\"\n",
        "    try:\n",
        "        with open(\"CDD_Info.txt\", \"r\") as file:\n",
        "            return file.readline().strip()\n",
        "    except Exception:\n",
        "        return \"Candidate\"\n",
        "\n",
        "def read_interview_questions():\n",
        "    \"\"\"Read and select 7 random questions from Questions.txt\"\"\"\n",
        "    try:\n",
        "        with open(\"Questions.txt\", \"r\") as file:\n",
        "            questions = [line.strip() for line in file.readlines() if line.strip()]\n",
        "            return random.sample(questions, min(7, len(questions)))\n",
        "    except Exception:\n",
        "        return [\"Can you tell me about yourself?\", \"Why do you want this role?\", \"What are your strengths and weaknesses?\"]\n",
        "\n",
        "candidate_name = read_candidate_name()\n",
        "selected_questions = read_interview_questions()\n",
        "\n",
        "# Prepare the AI Recruiter script\n",
        "UPDATED_SCRIPT = {\n",
        "    \"model\": {\n",
        "        \"model\": \"gpt-4o-mini\",\n",
        "        \"provider\": \"openai\",\n",
        "        \"temperature\": 0.4,\n",
        "        \"messages\": [\n",
        "            {\n",
        "                \"role\": \"system\",\n",
        "                \"content\": f\"\"\"# Primary Task\n",
        "You are now an AI Recruiter conducting a short pre-screening interview.\n",
        "Greet the candidate by their name and confirm availability before proceeding.\n",
        "\n",
        "# Behavior Guidelines\n",
        "- Maintain a polite and professional tone.\n",
        "- Ensure a smooth and engaging interview experience.\n",
        "- Keep responses concise and structured.\n",
        "\n",
        "# Role Instructions\n",
        "1. Keep happy and cheerful tone.\n",
        "2. Greet the candidate by their name.\n",
        "3. Ask if they are available for a short interview.\n",
        "4. If they agree:\n",
        " a. Ask them their curent location\n",
        " b. Ask them the expected salary per annum, if they tell it greater than 3 lakh rupees then laugh.\n",
        " c. ask them the following questions one by one:\n",
        "\n",
        "  {chr(10).join([f'- {q}' for q in selected_questions])}\n",
        "\n",
        "5. Acknowledge their responses and thank them for their time.\n",
        "\n",
        "# Script\n",
        "Greeting:\n",
        "'Hello {candidate_name}! I a recruiter from Gappeo. How are you?'\n",
        "\n",
        "(Wait for response)\n",
        "\n",
        "If Available:\n",
        "'Great! Let's get started.'\n",
        "\n",
        "If Unavailable:\n",
        "(ask them about another time at which they would be available, hear their response, thank them and then cut the call)\n",
        "\n",
        "(Ask each question one by one)\n",
        "\n",
        "Positive Conclusion:\n",
        "'Thank you, {candidate_name}, for your time! We will review your responses and get back to you soon. Have a great day!'\"\"\"\n",
        "            }\n",
        "        ]\n",
        "    }\n",
        "}\n",
        "\n",
        "response = requests.put(API_URL, headers=HEADERS, json=UPDATED_SCRIPT)\n",
        "\n",
        "if response.status_code == 200:\n",
        "    print(\"✅ AI Recruiter script updated successfully!\")\n",
        "else:\n",
        "    print(f\"❌ Error updating script: {response.json()}\")\n"
      ]
    },
    {
      "cell_type": "markdown",
      "metadata": {
        "id": "si_2hJ1cQFRL"
      },
      "source": [
        "#Calling"
      ]
    },
    {
      "cell_type": "code",
      "execution_count": null,
      "metadata": {
        "id": "2oHEmLsDpD12"
      },
      "outputs": [],
      "source": [
        "import requests\n",
        "\n",
        "def read_candidate_details():\n",
        "    \"\"\"Read candidate's name, phone number, and email from CDD_Info.txt\"\"\"\n",
        "    try:\n",
        "        with open(\"CDD_Info.txt\", \"r\") as file:\n",
        "            lines = [line.strip() for line in file.readlines() if line.strip()]\n",
        "            name = lines[0] if len(lines) > 0 else \"Candidate\"\n",
        "            phone_number = lines[1] if len(lines) > 1 else \"+91-0000000000\"  # Default in case of missing value\n",
        "            email = lines[2] if len(lines) > 2 else \"candidate@example.com\"\n",
        "            return name, phone_number, email\n",
        "    except Exception:\n",
        "        return \"Candidate\", \"+91-0000000000\", \"candidate@example.com\"\n",
        "\n",
        "# Read details\n",
        "candidate_name, candidate_phone, candidate_email = read_candidate_details()"
      ]
    },
    {
      "cell_type": "code",
      "execution_count": null,
      "metadata": {
        "colab": {
          "base_uri": "https://localhost:8080/"
        },
        "id": "e2MPoXSqKFBO",
        "outputId": "6884b99a-c692-45d3-85bd-9605c71c3141"
      },
      "outputs": [],
      "source": [
        "import requests\n",
        "\n",
        "# Create Call (POST /call)\n",
        "response = requests.post(\n",
        "  \"https://api.vapi.ai/call\",\n",
        "  headers={\n",
        "    \"Authorization\": \"Bearer token\",\n",
        "    \"Content-Type\": \"application/json\"\n",
        "  },\n",
        "  json={\n",
        "    \"name\": \"name\",\n",
        "    \"assistantId\": \"name\",\n",
        "    \"phoneNumber\": {\n",
        "      \"twilioAccountSid\": \"\",\n",
        "      \"twilioAuthToken\": \"\",\n",
        "      \"twilioPhoneNumber\": \"\"\n",
        "    },\n",
        "    \"customer\": {\n",
        "      \"number\": phone_number\n",
        "    }\n",
        "  },\n",
        ")\n",
        "\n",
        "# Parse response JSON\n",
        "response_json = response.json()\n",
        "\n",
        "# Extract the call ID\n",
        "call_id = response_json.get(\"id\")\n",
        "\n",
        "print(response.json())\n",
        "#print(call_id)"
      ]
    },
    {
      "cell_type": "code",
      "execution_count": null,
      "metadata": {
        "colab": {
          "base_uri": "https://localhost:8080/"
        },
        "id": "0wit6BgKUggb",
        "outputId": "78f820f2-0b00-4d14-8519-0fbdffc723a1"
      },
      "outputs": [],
      "source": [
        "import requests\n",
        "\n",
        "# Get Call (GET /call/:id)\n",
        "response = requests.get(\n",
        "    f\"https://api.vapi.ai/call/{call_id}\",\n",
        "    headers={\n",
        "        \"Authorization\": \"Bearer token\"\n",
        "    },\n",
        ")\n",
        "\n",
        "print(response.json())\n",
        "\n",
        "# The last line seems misplaced; if it's a comment or a URL reference, clarify its purpose\n",
        "# \"https://api.vapi.ai/call/<Call_ID>\"\n"
      ]
    },
    {
      "cell_type": "code",
      "execution_count": null,
      "metadata": {
        "colab": {
          "base_uri": "https://localhost:8080/"
        },
        "id": "POPHqWTxkNHD",
        "outputId": "e136b4b0-6bea-4a58-c3fd-ac416bb9153e"
      },
      "outputs": [],
      "source": [
        "import requests\n",
        "\n",
        "# Get Call (GET /call/:id)\n",
        "response = requests.get(\n",
        "    f\"https://api.vapi.ai/call/{call_id}\",\n",
        "    headers={\n",
        "        \"Authorization\": \"Bearer token\"\n",
        "    },\n",
        ")\n",
        "\n",
        "# Extracting the 'transcript' from the JSON response\n",
        "transcript = response.json().get(\"transcript\", \"\")\n",
        "\n",
        "# Save the transcript to a text file\n",
        "with open(\"transcript.txt\", \"w\") as file:\n",
        "    file.write(transcript)\n",
        "\n",
        "print(\"Transcript saved to transcript.txt\")\n"
      ]
    },
    {
      "cell_type": "code",
      "execution_count": null,
      "metadata": {
        "colab": {
          "base_uri": "https://localhost:8080/"
        },
        "id": "ecikeibCaqwF",
        "outputId": "02f146d5-bcaa-487f-c484-9a9c514d07a1"
      },
      "outputs": [],
      "source": [
        "import re\n",
        "from collections import Counter\n",
        "from sklearn.feature_extraction.text import TfidfVectorizer\n",
        "\n",
        "def extract_candidate_responses(conversation_text):\n",
        "    \"\"\"\n",
        "    Extracts only the candidate's responses from a given conversation text.\n",
        "    Assumes lines start with 'Recruiter:' or 'Candidate:'.\n",
        "    \"\"\"\n",
        "    candidate_responses = []\n",
        "    lines = conversation_text.split(\"\\n\")\n",
        "\n",
        "    for line in lines:\n",
        "        if line.startswith(\"Candidate:\"):\n",
        "            candidate_responses.append(line.replace(\"Candidate:\", \"\").strip())\n",
        "\n",
        "    return \" \".join(candidate_responses)  # Merge all responses into a single text\n",
        "\n",
        "def calculate_ats_score(candidate_text, jd_text):\n",
        "    \"\"\"\n",
        "    Calculates ATS Score using TF-IDF similarity between candidate responses and job description.\n",
        "    \"\"\"\n",
        "    vectorizer = TfidfVectorizer(stop_words='english')\n",
        "    tfidf_matrix = vectorizer.fit_transform([candidate_text, jd_text])\n",
        "    similarity = (tfidf_matrix * tfidf_matrix.T).toarray()[0, 1]\n",
        "\n",
        "    ats_score = round(similarity * 100, 2)  # Convert to percentage\n",
        "    return ats_score\n",
        "\n",
        "def categorize_candidate(score):\n",
        "    \"\"\"\n",
        "    Categorizes candidate based on ATS score.\n",
        "    \"\"\"\n",
        "    if score >= 80:\n",
        "        return \"Excellent\"\n",
        "    elif score >= 60:\n",
        "        return \"Good\"\n",
        "    elif score >= 40:\n",
        "        return \"Average\"\n",
        "    else:\n",
        "        return \"Weak\"\n",
        "\n",
        "# Load conversation and job description\n",
        "conversation_file = \"transcript.txt\"  # Path to the conversation file\n",
        "jd_file = \"Sales_JD.txt\"  # Path to the JD file\n",
        "\n",
        "with open(conversation_file, \"r\", encoding=\"utf-8\") as f:\n",
        "    conversation_text = f.read()\n",
        "\n",
        "with open(jd_file, \"r\", encoding=\"utf-8\") as f:\n",
        "    jd_text = f.read()\n",
        "\n",
        "# Extract candidate responses\n",
        "candidate_text = extract_candidate_responses(conversation_text)\n",
        "\n",
        "# Calculate ATS Score\n",
        "ats_score = calculate_ats_score(candidate_text, jd_text)\n",
        "\n",
        "# Get candidate category\n",
        "category = categorize_candidate(ats_score)\n",
        "\n",
        "print(f\"📊 Match Score: {ats_score}%\")\n",
        "print(f\"🏅 Candidate Category: {category}\")\n"
      ]
    },
    {
      "cell_type": "code",
      "execution_count": null,
      "metadata": {
        "id": "Nf64G0Px-Uj7"
      },
      "outputs": [],
      "source": []
    }
  ],
  "metadata": {
    "colab": {
      "provenance": []
    },
    "kernelspec": {
      "display_name": "Python 3",
      "name": "python3"
    },
    "language_info": {
      "name": "python",
      "version": "3.13.1"
    }
  },
  "nbformat": 4,
  "nbformat_minor": 0
}
